{
 "cells": [
  {
   "cell_type": "code",
   "execution_count": null,
   "metadata": {},
   "outputs": [],
   "source": [
    "co_df=pd.read_csv('corpus_nouns_final_reviews.csv')\n",
    "\n",
    "def xx(x):\n",
    "    import re\n",
    "    x = x.lstrip(\"[\\'\")\n",
    "    x=x.rstrip(\"\\']\")\n",
    "    x=x.replace('\\', \\'',',')\n",
    "    return x.split(',')\n",
    "    \n",
    "co_df['corpus_nouns1']=co_df['corpus_nouns'].apply(xx)\n",
    "\n",
    "co2=co_df['corpus_nouns1']"
   ]
  },
  {
   "cell_type": "code",
   "execution_count": null,
   "metadata": {},
   "outputs": [],
   "source": [
    "from gensim.models import KeyedVectors\n",
    "from gensim.models import Word2Vec \n",
    "model_22 = Word2Vec(size=100, min_count=1)\n",
    "model_22.build_vocab(co2)\n",
    "total_examples2 = model_22.corpus_count\n",
    "model2 = KeyedVectors.load_word2vec_format(\"glove-wiki-gigaword-100.txt\", binary=True)\n",
    "model_22.build_vocab([list(model2.vocab.keys())], update=True)\n",
    "model_22.intersect_word2vec_format(\"glove-wiki-gigaword-100.txt\", binary=True, lockf=1.0)\n",
    "model_22.train(co2, total_examples=total_examples2, epochs=model_2.iter)"
   ]
  },
  {
   "cell_type": "code",
   "execution_count": null,
   "metadata": {},
   "outputs": [],
   "source": [
    "model_22.wv.similar_by_word('balance life',topn=20)"
   ]
  },
  {
   "cell_type": "code",
   "execution_count": null,
   "metadata": {},
   "outputs": [],
   "source": [
    "d={}\n",
    "d['work_life']=['work life balance', 'life balance', 'work balance','low work pressure', 'balance', 'work-life', 'timing', 'flexibility','stress']\n",
    "d['culture_and_team']=['work culture','good team','atmosphere','culture','team','environment','competitive','job','employee care','enjoyable workplace']\n",
    "d['job_security']=['job security','stability','temporary','promotion','late promotion']\n",
    "d['salary_benefits']=['salary','benefits','benefit','free food','bad pay master','extra pay','transport facility','recreation','compensation','salary level','growth','wfh']\n",
    "d['outlook_vision']=['strategy','long-term vision','commitment','customer','clear strategy']\n",
    "d['harass_bias']=['bias','female employee','regional bias','unethical behavior','life hell','dirty politics']\n",
    "d['tech_products']=['technology product','hardware horrible','solid software','good product','great technology','new tool']\n",
    "d['management']=['bad manager','great manager','senior management']"
   ]
  },
  {
   "cell_type": "code",
   "execution_count": null,
   "metadata": {},
   "outputs": [],
   "source": [
    "subtopics=['job_security', 'culture_and_team','work_life','salary_benefits','outlook_vision','harass_bias','tech_products','management']"
   ]
  },
  {
   "cell_type": "code",
   "execution_count": null,
   "metadata": {},
   "outputs": [],
   "source": [
    "for i in subtopics:\n",
    "    ll=[]\n",
    "    for ii in d[str(i)]:\n",
    "        for j in list(model_22.similar_by_word(ii)):\n",
    "            if j[0] not in ll:\n",
    "                ll.append(j[0])\n",
    "    \n",
    "    with open('{}.txt'.format(i),'w') as f:\n",
    "        f.write(', '.join(ll))"
   ]
  }
 ],
 "metadata": {
  "kernelspec": {
   "display_name": "Python 3",
   "language": "python",
   "name": "python3"
  },
  "language_info": {
   "codemirror_mode": {
    "name": "ipython",
    "version": 3
   },
   "file_extension": ".py",
   "mimetype": "text/x-python",
   "name": "python",
   "nbconvert_exporter": "python",
   "pygments_lexer": "ipython3",
   "version": "3.6.5"
  }
 },
 "nbformat": 4,
 "nbformat_minor": 2
}
